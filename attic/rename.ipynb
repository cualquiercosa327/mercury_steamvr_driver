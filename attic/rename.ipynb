{
 "cells": [
  {
   "cell_type": "code",
   "execution_count": 5,
   "metadata": {},
   "outputs": [
    {
     "name": "stdout",
     "output_type": "stream",
     "text": [
      "C:\\dev\\mercury_steamvr_driver\\src\\steamvr_driver\\mercury\\resources\\rendermodels\\mercury_left\\valve_controller_knu_1_0_left.mtl C:\\dev\\mercury_steamvr_driver\\src\\steamvr_driver\\mercury\\resources\\rendermodels\\mercury_left\\mercury_left.mtl\n",
      "C:\\dev\\mercury_steamvr_driver\\src\\steamvr_driver\\mercury\\resources\\rendermodels\\mercury_left\\valve_controller_knu_1_0_left_diff.png C:\\dev\\mercury_steamvr_driver\\src\\steamvr_driver\\mercury\\resources\\rendermodels\\mercury_left\\mercury_left_diff.png\n",
      "C:\\dev\\mercury_steamvr_driver\\src\\steamvr_driver\\mercury\\resources\\rendermodels\\mercury_left\\valve_controller_knu_1_0_left_low_res.obj C:\\dev\\mercury_steamvr_driver\\src\\steamvr_driver\\mercury\\resources\\rendermodels\\mercury_left\\mercury_left_low_res.obj\n",
      "C:\\dev\\mercury_steamvr_driver\\src\\steamvr_driver\\mercury\\resources\\rendermodels\\mercury_left\\valve_controller_knu_1_0_left_spec.png C:\\dev\\mercury_steamvr_driver\\src\\steamvr_driver\\mercury\\resources\\rendermodels\\mercury_left\\mercury_left_spec.png\n",
      "C:\\dev\\mercury_steamvr_driver\\src\\steamvr_driver\\mercury\\resources\\rendermodels\\mercury_left\\valve_controller_knu_1_0_left_thumbnail.png C:\\dev\\mercury_steamvr_driver\\src\\steamvr_driver\\mercury\\resources\\rendermodels\\mercury_left\\mercury_left_thumbnail.png\n",
      "C:\\dev\\mercury_steamvr_driver\\src\\steamvr_driver\\mercury\\resources\\rendermodels\\mercury_right\\valve_controller_knu_1_0_right.mtl C:\\dev\\mercury_steamvr_driver\\src\\steamvr_driver\\mercury\\resources\\rendermodels\\mercury_right\\mercury_right.mtl\n",
      "C:\\dev\\mercury_steamvr_driver\\src\\steamvr_driver\\mercury\\resources\\rendermodels\\mercury_right\\valve_controller_knu_1_0_right_diff.png C:\\dev\\mercury_steamvr_driver\\src\\steamvr_driver\\mercury\\resources\\rendermodels\\mercury_right\\mercury_right_diff.png\n",
      "C:\\dev\\mercury_steamvr_driver\\src\\steamvr_driver\\mercury\\resources\\rendermodels\\mercury_right\\valve_controller_knu_1_0_right_low_res.obj C:\\dev\\mercury_steamvr_driver\\src\\steamvr_driver\\mercury\\resources\\rendermodels\\mercury_right\\mercury_right_low_res.obj\n",
      "C:\\dev\\mercury_steamvr_driver\\src\\steamvr_driver\\mercury\\resources\\rendermodels\\mercury_right\\valve_controller_knu_1_0_right_spec.png C:\\dev\\mercury_steamvr_driver\\src\\steamvr_driver\\mercury\\resources\\rendermodels\\mercury_right\\mercury_right_spec.png\n",
      "C:\\dev\\mercury_steamvr_driver\\src\\steamvr_driver\\mercury\\resources\\rendermodels\\mercury_right\\valve_controller_knu_1_0_right_thumbnail.png C:\\dev\\mercury_steamvr_driver\\src\\steamvr_driver\\mercury\\resources\\rendermodels\\mercury_right\\mercury_right_thumbnail.png\n"
     ]
    }
   ],
   "source": [
    "import os\n",
    "import re\n",
    "\n",
    "# Define the directory to search for files\n",
    "dir_path = 'C:\\dev\\mercury_steamvr_driver'\n",
    "\n",
    "# Define the regular expression to match filenames\n",
    "pattern = re.compile(r'valve_controller_knu_1_0')\n",
    "\n",
    "# Define the replacement string\n",
    "replacement = 'mercury'\n",
    "\n",
    "# Walk over the directory tree and rename files\n",
    "for root, dirs, files in os.walk(dir_path):\n",
    "    for filename in files:\n",
    "        if pattern.search(filename):\n",
    "            new_filename = pattern.sub(replacement, filename)\n",
    "            old_path = os.path.join(root, filename)\n",
    "            new_path = os.path.join(root, new_filename)\n",
    "            print(old_path, new_path)\n",
    "\n",
    "            os.rename(old_path, new_path)"
   ]
  },
  {
   "cell_type": "code",
   "execution_count": null,
   "metadata": {},
   "outputs": [],
   "source": []
  }
 ],
 "metadata": {
  "kernelspec": {
   "display_name": "Python 3",
   "language": "python",
   "name": "python3"
  },
  "language_info": {
   "codemirror_mode": {
    "name": "ipython",
    "version": 3
   },
   "file_extension": ".py",
   "mimetype": "text/x-python",
   "name": "python",
   "nbconvert_exporter": "python",
   "pygments_lexer": "ipython3",
   "version": "3.11.0"
  },
  "orig_nbformat": 4,
  "vscode": {
   "interpreter": {
    "hash": "8f2d1204eba228ffdbfca21cefefd455538a7b0a50351f937d4f33f8f8b68846"
   }
  }
 },
 "nbformat": 4,
 "nbformat_minor": 2
}
