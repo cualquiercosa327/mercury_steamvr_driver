{
 "cells": [
  {
   "cell_type": "code",
   "execution_count": null,
   "metadata": {},
   "outputs": [],
   "source": [
    "import pandas\n",
    "import matplotlib.pyplot as plt\n",
    "import numpy as np\n",
    "\n",
    "\n",
    "\n",
    "def rescale(start, the):\n",
    "    the = the - start\n",
    "    the = the.astype(np.float64)\n",
    "\n",
    "    return the\n",
    "\n",
    "cs = pandas.read_csv(\"C:/dev/timestamps.csv\")\n",
    "\n",
    "print(cs)\n",
    "\n",
    "cs2 = np.array(cs)\n",
    "\n",
    "print(cs2)\n",
    "\n",
    "\n",
    "\n",
    "\n",
    "fig, ax = plt.subplots(figsize=(25, 10))\n",
    "\n",
    "# ax.plot(cs2[:, 0])\n",
    "start = cs2[:,0]\n",
    "\n",
    "host_received = cs2[:, 1]-start\n",
    "\n",
    "sent = cs2[:, 2]-start\n",
    "recieved = cs2[:, 3]-start\n",
    "\n",
    "delay = cs2[:, 4].astype(np.float64) / float(1_000_000_000)\n",
    "max_delay = cs2[:, 5].astype(np.float64) / float(1_000_000_000)\n",
    "ht_delay = cs2[:,6].astype(np.float64) / float(1_000_000_000)\n",
    "\n",
    "host_received = host_received.astype(np.float64)\n",
    "sent = sent.astype(np.float64)\n",
    "recieved = recieved.astype(np.float64)\n",
    "\n",
    "host_received /= float(1_000_000_000)\n",
    "sent /= float(1_000_000_000)\n",
    "recieved /= float(1_000_000_000)\n",
    "\n",
    "ax.plot(host_received)\n",
    "ax.plot(sent)\n",
    "ax.plot(recieved)\n",
    "\n",
    "\n",
    "ax.plot(delay, label=\"delay\")\n",
    "ax.plot(max_delay, label=\"max_delay\")\n",
    "ax.plot(ht_delay, label=\"ht_delay\")\n",
    "\n",
    "\n",
    "ax.plot([0.0116858]*len(sent))\n",
    "ax.plot([0.0116858+1/54]*len(sent))\n",
    "ax.plot([0.0116858+2/54]*len(sent))\n",
    "ax.plot([0.0116858+3/54]*len(sent))\n",
    "\n",
    "\n",
    "ax.set_ylim(0, )\n",
    "\n",
    "print(host_received.min())\n",
    "\n",
    "plt.legend()\n",
    "plt.show()\n"
   ]
  },
  {
   "cell_type": "code",
   "execution_count": null,
   "metadata": {},
   "outputs": [],
   "source": []
  }
 ],
 "metadata": {
  "kernelspec": {
   "display_name": "Python 3",
   "language": "python",
   "name": "python3"
  },
  "language_info": {
   "codemirror_mode": {
    "name": "ipython",
    "version": 3
   },
   "file_extension": ".py",
   "mimetype": "text/x-python",
   "name": "python",
   "nbconvert_exporter": "python",
   "pygments_lexer": "ipython3",
   "version": "3.11.0"
  },
  "orig_nbformat": 4,
  "vscode": {
   "interpreter": {
    "hash": "8f2d1204eba228ffdbfca21cefefd455538a7b0a50351f937d4f33f8f8b68846"
   }
  }
 },
 "nbformat": 4,
 "nbformat_minor": 2
}
